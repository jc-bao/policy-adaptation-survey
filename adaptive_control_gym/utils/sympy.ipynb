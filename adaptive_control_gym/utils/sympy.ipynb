{
 "cells": [
  {
   "cell_type": "code",
   "execution_count": null,
   "metadata": {},
   "outputs": [],
   "source": [
    "import sympy as sp\n",
    "\n",
    "# Define time variable\n",
    "t = sp.Symbol('t')\n",
    "\n",
    "# Define generalized coordinate and its time derivative\n",
    "q = sp.Function('q')(t)\n",
    "q_dot = q.diff(t)\n",
    "\n",
    "# Define any required system parameters (e.g., mass)\n",
    "m = sp.Symbol('m', positive=True)"
   ]
  }
 ],
 "metadata": {
  "kernelspec": {
   "display_name": "jax",
   "language": "python",
   "name": "python3"
  },
  "language_info": {
   "name": "python",
   "version": "3.10.10"
  },
  "orig_nbformat": 4
 },
 "nbformat": 4,
 "nbformat_minor": 2
}
