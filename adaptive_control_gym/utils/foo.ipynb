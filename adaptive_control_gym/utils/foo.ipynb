{
 "cells": [
  {
   "cell_type": "code",
   "execution_count": null,
   "metadata": {},
   "outputs": [],
   "source": [
    "import numpy as np"
   ]
  },
  {
   "cell_type": "code",
   "execution_count": null,
   "metadata": {},
   "outputs": [],
   "source": [
    "# create err_x as a linspace from 0 to 2\n",
    "err_x = np.linspace(0, 2, 100)"
   ]
  },
  {
   "cell_type": "code",
   "execution_count": null,
   "metadata": {},
   "outputs": [],
   "source": [
    "reward = 1.0 - np.clip(err_x, 0, 2)*0.5\n",
    "reward -= np.clip(np.log(err_x+1)*5, 0, 1)*0.1 # for 0.2\n",
    "reward -= np.clip(np.log(err_x+1)*10, 0, 1)*0.1 # for 0.1\n",
    "reward -= np.clip(np.log(err_x+1)*20, 0, 1)*0.1 # for 0.05\n",
    "reward -= np.clip(np.log(err_x+1)*50, 0, 1)*0.1 # for 0.02"
   ]
  },
  {
   "cell_type": "code",
   "execution_count": null,
   "metadata": {},
   "outputs": [],
   "source": [
    "# plot reward\n",
    "import matplotlib.pyplot as plt\n",
    "plt.plot(err_x, reward)\n",
    "# add labels\n",
    "plt.xlabel('err_x')\n",
    "plt.ylabel('reward')"
   ]
  },
  {
   "cell_type": "code",
   "execution_count": null,
   "metadata": {},
   "outputs": [],
   "source": [
    "'''\n",
    "create a function with is the output of a set of three-order polynomial function\n",
    "the input dimension is input_dim \n",
    "the output dimension is output_dim\n",
    "'''\n",
    "def create_polynomial(input_dim, output_dim):\n",
    "    # create a random matrix with shape (input_dim, output_dim)\n",
    "    # the values are from a uniform distribution between -1 and 1\n",
    "    matrix = np.random.uniform(-1, 1, size=(3, input_dim, output_dim))\n",
    "    # create a random vector with shape (output_dim)\n",
    "    # the values are from a uniform distribution between -1 and 1\n",
    "    vector = np.random.uniform(-1, 1, size=(output_dim))\n",
    "    # create a function\n",
    "    def f(x):\n",
    "        # x is a vector with shape (input_dim)\n",
    "        # the output is a vector with shape (output_dim)\n",
    "        return np.dot(x, matrix[0]) + np.dot(x**2, matrix[1]) + np.dot(x**3, matrix[2]) + vector\n",
    "    return f # return the function"
   ]
  },
  {
   "cell_type": "code",
   "execution_count": null,
   "metadata": {},
   "outputs": [],
   "source": [
    "# generate input signal input as a set of "
   ]
  }
 ],
 "metadata": {
  "kernelspec": {
   "display_name": "rlgpu",
   "language": "python",
   "name": "python3"
  },
  "language_info": {
   "codemirror_mode": {
    "name": "ipython",
    "version": 3
   },
   "file_extension": ".py",
   "mimetype": "text/x-python",
   "name": "python",
   "nbconvert_exporter": "python",
   "pygments_lexer": "ipython3",
   "version": "3.7.13 (default, Mar 29 2022, 02:18:16) \n[GCC 7.5.0]"
  },
  "orig_nbformat": 4,
  "vscode": {
   "interpreter": {
    "hash": "f381b2ea382b32a8a0c4ea78237e5104aed4e6c5df67292954c05f7a8793897f"
   }
  }
 },
 "nbformat": 4,
 "nbformat_minor": 2
}
