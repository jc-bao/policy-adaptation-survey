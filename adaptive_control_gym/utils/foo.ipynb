{
 "cells": [
  {
   "cell_type": "code",
   "execution_count": null,
   "metadata": {},
   "outputs": [],
   "source": [
    "import numpy as np"
   ]
  },
  {
   "cell_type": "code",
   "execution_count": null,
   "metadata": {},
   "outputs": [],
   "source": [
    "# create err_x as a linspace from 0 to 2\n",
    "err_x = np.linspace(0, 2, 100)"
   ]
  },
  {
   "cell_type": "code",
   "execution_count": null,
   "metadata": {},
   "outputs": [],
   "source": [
    "reward = 1.0 - np.clip(err_x, 0, 2)*0.5\n",
    "reward -= np.clip(np.log(err_x+1)*5, 0, 1)*0.1 # for 0.2\n",
    "reward -= np.clip(np.log(err_x+1)*10, 0, 1)*0.1 # for 0.1\n",
    "reward -= np.clip(np.log(err_x+1)*20, 0, 1)*0.1 # for 0.05\n",
    "reward -= np.clip(np.log(err_x+1)*50, 0, 1)*0.1 # for 0.02"
   ]
  },
  {
   "cell_type": "code",
   "execution_count": null,
   "metadata": {},
   "outputs": [],
   "source": [
    "# plot reward\n",
    "import matplotlib.pyplot as plt\n",
    "plt.plot(err_x, reward)\n",
    "# add labels\n",
    "plt.xlabel('err_x')\n",
    "plt.ylabel('reward')"
   ]
  },
  {
   "cell_type": "code",
   "execution_count": null,
   "metadata": {},
   "outputs": [],
   "source": [
    "import torch\n",
    "from icecream import ic\n",
    "import matplotlib.pyplot as plt"
   ]
  },
  {
   "cell_type": "code",
   "execution_count": null,
   "metadata": {},
   "outputs": [],
   "source": [
    "'''\n",
    "create a function with is the output of a set of three-order polynomial function\n",
    "the input dimension is input_dim \n",
    "the output dimension is output_dim\n",
    "'''\n",
    "input_dim = 4\n",
    "output_dim = 2\n",
    "seed = 0\n",
    "# create a random matrix with shape (input_dim, output_dim)\n",
    "# the values are from a uniform distribution between -1 and 1\n",
    "torch.random.set_rng_state(torch.manual_seed(1024).get_state())\n",
    "torch.manual_seed(seed)\n",
    "# create a function\n",
    "def f(x):\n",
    "    matrix = torch.rand((output_dim, input_dim,input_dim))*2-1\n",
    "    vector = torch.rand((output_dim))*2-1\n",
    "    # x:Tensor(batch_size, input_dim) y:Tensor(batch_size, output_dim)\n",
    "    # quadratic function\n",
    "    y = vector + torch.einsum('bi,oij,bj->bo', x, matrix, x)\n",
    "    return y/input_dim"
   ]
  },
  {
   "cell_type": "code",
   "execution_count": null,
   "metadata": {},
   "outputs": [],
   "source": [
    "# generate input signal as input_dim number of sin signal with different frequncy and phase \n",
    "input_signal = torch.zeros((100, input_dim))\n",
    "for i in range(input_dim):\n",
    "    input_signal[:,i] = torch.sin(torch.linspace(0, 2*torch.pi, 100)*(i+1) + torch.rand(1)*torch.pi)\n",
    "output = f(input_signal)"
   ]
  },
  {
   "cell_type": "code",
   "execution_count": null,
   "metadata": {},
   "outputs": [],
   "source": [
    "# plot input and output\n",
    "plt.figure(figsize=(10, 3))\n",
    "plt.subplot(1, 2, 1)\n",
    "plt.plot(input_signal.numpy())\n",
    "plt.legend(['input_signal_1', 'input_signal_2', 'input_signal_3', 'input_signal_4'])\n",
    "plt.xlabel('time step')\n",
    "plt.ylabel('input_signal')\n",
    "plt.subplot(1, 2, 2)\n",
    "plt.plot(output.numpy())\n",
    "plt.legend(['output_1', 'output_2'])\n",
    "plt.xlabel('time step')\n",
    "plt.ylabel('output')"
   ]
  },
  {
   "cell_type": "code",
   "execution_count": null,
   "metadata": {},
   "outputs": [],
   "source": [
    "import torch\n",
    "seed=0\n",
    "torch.random.set_rng_state(torch.manual_seed(1024).get_state())\n",
    "torch.manual_seed(seed)\n",
    "print(torch.rand(1))\n",
    "torch.random.set_rng_state(torch.manual_seed(1024).get_state())\n",
    "torch.manual_seed(seed)\n",
    "print(torch.rand(1))"
   ]
  },
  {
   "cell_type": "code",
   "execution_count": 23,
   "metadata": {},
   "outputs": [
    {
     "data": {
      "text/plain": [
       "Text(0, 0.5, 'velocity')"
      ]
     },
     "execution_count": 23,
     "metadata": {},
     "output_type": "execute_result"
    },
    {
     "data": {
      "image/png": "[encoded data removed]",
      "text/plain": [
       "<Figure size 1000x300 with 2 Axes>"
      ]
     },
     "metadata": {},
     "output_type": "display_data"
    }
   ],
   "source": [
    "import numpy as np\n",
    "\n",
    "# create a Mass-spring-damper model\n",
    "\n",
    "# define the parameters\n",
    "g = 9.81\n",
    "m1 = 0.027 # mass\n",
    "m2 = 0.01\n",
    "m = (m1*m2)/(m1+m2)\n",
    "rope_zeta = 0.95\n",
    "rope_wn = 500\n",
    "dt = 4e-4\n",
    "\n",
    "x = 0.0\n",
    "v = -20\n",
    "\n",
    "xs = []\n",
    "vs = []\n",
    "ts = []\n",
    "\n",
    "for i in range(int(0.1/(4e-4))):\n",
    "    t = i * dt\n",
    "    f = np.clip(m * ( - (rope_wn ** 2) * x - 2 * rope_zeta * rope_wn * v) * float(x<0.0) - m * g, -20, 20)\n",
    "    a = f / m\n",
    "    v += a * dt\n",
    "    x += v * dt\n",
    "    xs.append(x)\n",
    "    vs.append(v)\n",
    "    ts.append(t)\n",
    "\n",
    "import matplotlib.pyplot as plt\n",
    "# plot the result in 2 subplots\n",
    "plt.figure(figsize=(10, 3))\n",
    "plt.subplot(1, 2, 1)\n",
    "plt.plot(ts, xs)\n",
    "plt.xlabel('time')\n",
    "plt.ylabel('position')\n",
    "plt.subplot(1, 2, 2)\n",
    "plt.plot(ts, vs)\n",
    "plt.xlabel('time')\n",
    "plt.ylabel('velocity')\n"
   ]
  }
 ],
 "metadata": {
  "kernelspec": {
   "display_name": "rlgpu",
   "language": "python",
   "name": "python3"
  },
  "language_info": {
   "codemirror_mode": {
    "name": "ipython",
    "version": 3
   },
   "file_extension": ".py",
   "mimetype": "text/x-python",
   "name": "python",
   "nbconvert_exporter": "python",
   "pygments_lexer": "ipython3",
   "version": "3.7.13"
  },
  "orig_nbformat": 4,
  "vscode": {
   "interpreter": {
    "hash": "f381b2ea382b32a8a0c4ea78237e5104aed4e6c5df67292954c05f7a8793897f"
   }
  }
 },
 "nbformat": 4,
 "nbformat_minor": 2
}
