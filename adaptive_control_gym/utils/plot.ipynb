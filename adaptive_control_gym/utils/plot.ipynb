{
 "cells": [
  {
   "cell_type": "code",
   "execution_count": null,
   "metadata": {},
   "outputs": [],
   "source": [
    "import pandas as pd\n",
    "import seaborn as sns\n",
    "import matplotlib.pyplot as plt"
   ]
  },
  {
   "cell_type": "code",
   "execution_count": null,
   "metadata": {},
   "outputs": [],
   "source": [
    "# read the file\n",
    "df_x = pd.read_csv('eval_x.csv')\n",
    "# add a column for expert\n",
    "df_x['expert'] = False\n",
    "# read the file\n",
    "df_y = pd.read_csv('eval_xe.csv')\n",
    "# add a column for expert\n",
    "df_y['expert'] = True\n",
    "# concat\n",
    "df = pd.concat([df_x, df_y])\n",
    "# save to csv\n",
    "df.to_csv('eval.csv', index=False)"
   ]
  },
  {
   "cell_type": "code",
   "execution_count": null,
   "metadata": {},
   "outputs": [],
   "source": [
    "# use seaborn to plot\n",
    "sns.set()\n",
    "sns.set_style(\"whitegrid\")\n",
    "sns.set_context(\"paper\", font_scale=1.5, rc={\"lines.linewidth\": 2.5})\n",
    "# plot\n",
    "fig, axs = plt.subplots(3, 4, figsize=(40, 20))\n",
    "sns.lineplot(x='mass_x', y='rew', hue='expert', data=df, ax=axs[0,0], errorbar=('sd', 0.2))\n",
    "sns.lineplot(x='mass_y', y='rew', hue='expert', data=df, ax=axs[0,1], errorbar=('sd', 0.2))\n",
    "sns.lineplot(x='mass_z', y='rew', hue='expert', data=df, ax=axs[0,2], errorbar=('sd', 0.2))\n",
    "sns.lineplot(x='decay_x', y='rew', hue='expert', data=df, ax=axs[1,0], errorbar=('sd', 0.2))\n",
    "sns.lineplot(x='decay_y', y='rew', hue='expert', data=df, ax=axs[1,1], errorbar=('sd', 0.2))\n",
    "sns.lineplot(x='decay_z', y='rew', hue='expert', data=df, ax=axs[1,2], errorbar=('sd', 0.2))\n",
    "sns.lineplot(x='param_0', y='rew', hue='expert', data=df, ax=axs[2,0], errorbar=('sd', 0.2))\n",
    "sns.lineplot(x='param_1', y='rew', hue='expert', data=df, ax=axs[2,1], errorbar=('sd', 0.2))\n",
    "sns.lineplot(x='param_2', y='rew', hue='expert', data=df, ax=axs[2,2], errorbar=('sd', 0.2))\n",
    "sns.lineplot(x='param_3', y='rew', hue='expert', data=df, ax=axs[2,3], errorbar=('sd', 0.2))"
   ]
  },
  {
   "cell_type": "code",
   "execution_count": null,
   "metadata": {},
   "outputs": [],
   "source": [
    "# save the plot\n",
    "plt.savefig('sensitivity.png')"
   ]
  },
  {
   "cell_type": "code",
   "execution_count": null,
   "metadata": {},
   "outputs": [],
   "source": [
    "df[df['mass_x']==0.006].var()"
   ]
  },
  {
   "cell_type": "code",
   "execution_count": null,
   "metadata": {},
   "outputs": [],
   "source": [
    "import torch\n",
    "from icecream import ic\n",
    "# set ic float precision to 3\n",
    "# vanilla = torch.load('/home/pcy/rl/policy-adaptation-survey/results/rl/ppo_mlp_vanilla_Dw1.pt')\n",
    "# ic(vanilla['expert_err_x_final'], vanilla['adapt_err_x_initial'], vanilla['adapt_err_x_end'])\n",
    "# expert_Dw0 = torch.load('/home/pcy/rl/policy-adaptation-survey/results/rl/ppo_mlp_expert_Dw0.pt')\n",
    "# ic(expert_Dw0['expert_err_x_final'], expert_Dw0['adapt_err_x_initial'], expert_Dw0['adapt_err_x_end'])\n",
    "expert_Dw1 = torch.load('/home/pcy/rl/policy-adaptation-survey/results/rl/ppo_RMA.pt')\n",
    "ic(expert_Dw1['expert_err_x_final'], expert_Dw1['adapt_err_x_initial'], expert_Dw1['adapt_err_x_end'])\n",
    "# expert_Dw1_C4 = torch.load('/home/pcy/rl/policy-adaptation-survey/results/rl/ppo_mlp_expert_Dw1_C4.pt')\n",
    "# ic(expert_Dw1_C4['expert_err_x_final'], expert_Dw1_C4['adapt_err_x_initial'], expert_Dw1_C4['adapt_err_x_end'])\n",
    "# print(f\"|{vanilla['expert_err_x_final']:.4f}|{vanilla['adapt_err_x_initial']:.4f}|{vanilla['adapt_err_x_end']:.4f}|\")\n",
    "# print(f\"|{expert_Dw0['expert_err_x_final']:.4f}|{expert_Dw0['adapt_err_x_initial']:.4f}|{expert_Dw0['adapt_err_x_end']:.4f}|\")\n",
    "print(f\"|{expert_Dw1['expert_err_x_final']:.4f}|{expert_Dw1['adapt_err_x_initial']:.4f}|{expert_Dw1['adapt_err_x_end']:.4f}|\")\n",
    "\n",
    "# print(f\"|{expert_Dw1_C4['expert_err_x_final']:.4f}|{expert_Dw1_C4['adapt_err_x_initial']:.4f}|{expert_Dw1_C4['adapt_err_x_end']:.4f}|\")"
   ]
  },
  {
   "cell_type": "code",
   "execution_count": null,
   "metadata": {},
   "outputs": [],
   "source": [
    "# load torch module\n",
    "import torch\n",
    "# load the model\n",
    "model = torch.load('/home/pcy/rl/policy-adaptation-survey/results/rl/ppo_RMA3.pt')\n",
    "compressor = model['compressor'].to('cpu')\n",
    "err = model['expert_err_x_final']"
   ]
  },
  {
   "cell_type": "code",
   "execution_count": null,
   "metadata": {},
   "outputs": [],
   "source": [
    "# create xyz from a sphere with torch\n",
    "theta = torch.linspace(0, 2*torch.pi, 100)\n",
    "phi = torch.linspace(0, torch.pi, 50)\n",
    "x = torch.outer(torch.cos(theta), torch.sin(phi))\n",
    "y = torch.outer(torch.sin(theta), torch.sin(phi))\n",
    "z = torch.outer(torch.ones(theta.shape), torch.cos(phi))\n",
    "xyz = torch.stack([x, y, z], dim=-1).reshape(-1, 3)\n",
    "x = x.reshape(-1, 1)\n",
    "xyz = torch.cat([x, torch.zeros([x.shape[0],2])], dim=-1)\n",
    "# passing xyz to network\n",
    "xyz = xyz.to('cpu')\n",
    "xyz_compressed = compressor(torch.cat([torch.zeros([xyz.shape[0], 3]), xyz,torch.zeros([xyz.shape[0], 12-3-3])], dim=-1))\n",
    "err = torch.arange(5000)/5000\n",
    "# plot orginal xyz and compressed xyz side by side with color mapping\n",
    "import matplotlib.pyplot as plt\n",
    "from mpl_toolkits.mplot3d import Axes3D\n",
    "fig = plt.figure(figsize=(20, 10))\n",
    "ax1 = fig.add_subplot(121, projection='3d')\n",
    "ax2 = fig.add_subplot(122, projection='3d')\n",
    "ax1.scatter(xyz[:, 0], xyz[:, 1], xyz[:, 2], c=err, cmap='jet')\n",
    "ax2.scatter(xyz_compressed[:, 0], xyz_compressed[:, 1], xyz_compressed[:, 2], c=err, cmap='jet')\n",
    "# set title\n",
    "ax1.set_title('original xyz')\n",
    "ax2.set_title('compressed xyz')\n",
    "# set all title\n",
    "plt.suptitle('mass OOD')"
   ]
  },
  {
   "cell_type": "code",
   "execution_count": null,
   "metadata": {},
   "outputs": [],
   "source": [
    "import torch\n",
    "\n",
    "expert_model = torch.load('/home/pcy/rl/policy-adaptation-survey/results/rl/ppo_hover1dadaptive.pt', map_location=torch.device('cpu'))\n",
    "expert_policy = expert_model['actor']\n",
    "expert_compress = expert_model['compressor']\n",
    "robust_model = torch.load('/home/pcy/rl/policy-adaptation-survey/results/rl/ppo_robusthover1d.pt', map_location=torch.device('cpu'))\n",
    "robust_policy = robust_model['actor']\n",
    "\n",
    "obs = torch.zeros([1, 4+10])\n",
    "e = torch.ones([1,1]) * (1.0)\n",
    "\n",
    "ic(expert_policy(obs, expert_compress(e)))\n",
    "ic(robust_policy(obs, None))"
   ]
  },
  {
   "cell_type": "code",
   "execution_count": null,
   "metadata": {},
   "outputs": [],
   "source": [
    "# plot expert_policy(obs, expert_compress(e)) in e from -1 to 1\n",
    "import matplotlib.pyplot as plt\n",
    "import numpy as np\n",
    "es = np.linspace(-1, 1, 100, dtype=np.float32)\n",
    "mass = np.zeros([100])\n",
    "force = np.zeros([100])\n",
    "gravity = np.zeros([100])\n",
    "for i, e in enumerate(es):\n",
    "    force[i] = expert_policy(obs, expert_compress(torch.tensor([[e]])))[0][0]\n",
    "    mass[i] = 0.05 + 0.02 * e\n",
    "    gravity[i] = mass[i] * 9.81\n",
    "plt.plot(mass, force, label='force')\n",
    "plt.plot(mass, gravity, label='gravity')\n",
    "# plot horizontal line at y = 0.6086\n",
    "plt.axhline(y=0.6086, color='r', linestyle='--', label='robust')\n",
    "plt.legend()"
   ]
  },
  {
   "cell_type": "code",
   "execution_count": null,
   "metadata": {},
   "outputs": [],
   "source": [
    "import matplotlib.pyplot as plt\n",
    "import numpy as np\n",
    "import seaborn as sns\n",
    "import pandas as pd\n",
    "\n",
    "# set theme\n",
    "sns.set_theme(style=\"darkgrid\")\n",
    "# load data\n",
    "data_bullet = pd.read_csv('/home/pcy/rl/gym-quad/gym_quad/results/test.csv')[2500:2700]\n",
    "data_torch = pd.read_csv('/home/pcy/rl/policy-adaptation-survey/adaptive_control_gym/envs/results/test.csv')[2500:2700]\n",
    "data_bullet['xyz_drones_2'] -= 5.0\n",
    "data_bullet['xyz_obj_2'] -= 5.0\n",
    "# plot\n",
    "fig, axs = plt.subplots(len(data_bullet.columns), 1, figsize=(5, 2*len(data_bullet.columns)))\n",
    "for i, col in enumerate(data_bullet.columns):\n",
    "    sns.lineplot(data=data_bullet, x='time', y=col, ax=axs[i], label='bullet')\n",
    "    sns.lineplot(data=data_torch, x='time', y=col, ax=axs[i], linestyle='--', label='torch')\n",
    "    axs[i].set_xlabel('time')\n",
    "    axs[i].set_ylabel(col)\n",
    "    axs[i].legend()"
   ]
  },
  {
   "cell_type": "code",
   "execution_count": null,
   "metadata": {},
   "outputs": [],
   "source": [
    "# set theme\n",
    "sns.set_theme(style=\"darkgrid\")\n",
    "# load data\n",
    "data_torch = pd.read_csv('/home/pcy/rl/policy-adaptation-survey/adaptive_control_gym/envs/results/test.csv')[2500:2700]\n",
    "# plot vrpy_drones_0 column\n",
    "fig, axs = plt.subplots(1, 1, figsize=(8, 3))\n",
    "sns.lineplot(data=data_torch, x='time', y='vrpy_drones_0', ax=axs, label='vrpy_drones_0')"
   ]
  },
  {
   "cell_type": "code",
   "execution_count": 36,
   "metadata": {},
   "outputs": [
    {
     "data": {
      "text/plain": [
       "<matplotlib.colorbar.Colorbar at 0x7f580a312750>"
      ]
     },
     "execution_count": 36,
     "metadata": {},
     "output_type": "execute_result"
    },
    {
     "data": {
      "image/png": "[encoded data removed]",
      "text/plain": [
       "<Figure size 800x600 with 2 Axes>"
      ]
     },
     "metadata": {},
     "output_type": "display_data"
    }
   ],
   "source": [
    "import torch\n",
    "\n",
    "\n",
    "def get_hit_penalty(xz):\n",
    "    xyz = torch.cat([xz[..., [0]], torch.zeros([xz.shape[0], 1]), xz[..., [1]]], dim=-1)\n",
    "    within_obs_x_range = torch.abs(xyz[:, 0]) < 0.03\n",
    "    outof_obs_z_range = torch.abs(xyz[:, 2]) > 0.07\n",
    "\n",
    "    hit_x_bound = within_obs_x_range & outof_obs_z_range\n",
    "\n",
    "    hit_panelty = - torch.clip(hit_x_bound.float() * torch.min(0.03-torch.abs(xyz[:, 0]), torch.abs(xyz[:, 2])-0.07) * 100.0, -1, 1)\n",
    "    return hit_panelty\n",
    "\n",
    "def get_reward(xz):\n",
    "    err_x = torch.norm(xz - torch.tensor([0.5, 0.0]), dim=1)\n",
    "    reward = 1.0 - torch.clip(err_x, 0, 2)*0.5\n",
    "    reward -= torch.clip(torch.log(err_x+1)*5, 0, 1)*0.1  # for 0.2\n",
    "    reward -= torch.clip(torch.log(err_x+1)*10, 0, 1)*0.1  # for 0.1\n",
    "    panelty = get_hit_penalty(xz)\n",
    "    return reward * (panelty >= 0.0) * 2.0 + panelty * 1.0\n",
    "\n",
    "# plot the heatmap of hit penalty\n",
    "import matplotlib.pyplot as plt\n",
    "\n",
    "# generate meshgrid with torch\n",
    "x = torch.linspace(-0.5, 0.5, 100)\n",
    "z = torch.linspace(-0.5, 0.5, 100)\n",
    "X, Z = torch.meshgrid(x, z)\n",
    "xz = torch.cat([X.reshape(-1, 1), Z.reshape(-1, 1)], dim=-1)\n",
    "hit_penalty = get_reward(xz).reshape(100, 100)\n",
    "# plot\n",
    "fig, axs = plt.subplots(1, 1, figsize=(8, 6))\n",
    "axs.pcolormesh(X, Z, hit_penalty, cmap='jet')\n",
    "axs.set_xlabel('x')\n",
    "axs.set_ylabel('z')\n",
    "axs.set_title('hit penalty')\n",
    "# color value bar\n",
    "fig.colorbar(axs.pcolormesh(X, Z, hit_penalty, cmap='jet'), ax=axs)"
   ]
  }
 ],
 "metadata": {
  "kernelspec": {
   "display_name": "rlgpu",
   "language": "python",
   "name": "python3"
  },
  "language_info": {
   "codemirror_mode": {
    "name": "ipython",
    "version": 3
   },
   "file_extension": ".py",
   "mimetype": "text/x-python",
   "name": "python",
   "nbconvert_exporter": "python",
   "pygments_lexer": "ipython3",
   "version": "3.7.13"
  },
  "orig_nbformat": 4,
  "vscode": {
   "interpreter": {
    "hash": "f381b2ea382b32a8a0c4ea78237e5104aed4e6c5df67292954c05f7a8793897f"
   }
  }
 },
 "nbformat": 4,
 "nbformat_minor": 2
}
