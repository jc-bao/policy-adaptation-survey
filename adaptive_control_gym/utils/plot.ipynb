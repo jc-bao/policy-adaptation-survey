{
 "cells": [
  {
   "cell_type": "code",
   "execution_count": null,
   "metadata": {},
   "outputs": [],
   "source": [
    "import pandas as pd\n",
    "import seaborn as sns\n",
    "import matplotlib.pyplot as plt"
   ]
  },
  {
   "cell_type": "code",
   "execution_count": null,
   "metadata": {},
   "outputs": [],
   "source": [
    "# read the file\n",
    "df_x = pd.read_csv('eval_x.csv')\n",
    "# add a column for expert\n",
    "df_x['expert'] = False\n",
    "# read the file\n",
    "df_y = pd.read_csv('eval_xe.csv')\n",
    "# add a column for expert\n",
    "df_y['expert'] = True\n",
    "# concat\n",
    "df = pd.concat([df_x, df_y])\n",
    "# save to csv\n",
    "df.to_csv('eval.csv', index=False)"
   ]
  },
  {
   "cell_type": "code",
   "execution_count": null,
   "metadata": {},
   "outputs": [],
   "source": [
    "# use seaborn to plot\n",
    "sns.set()\n",
    "sns.set_style(\"whitegrid\")\n",
    "sns.set_context(\"paper\", font_scale=1.5, rc={\"lines.linewidth\": 2.5})\n",
    "# plot\n",
    "fig, axs = plt.subplots(3, 4, figsize=(40, 20))\n",
    "sns.lineplot(x='mass_x', y='rew', hue='expert', data=df, ax=axs[0,0], errorbar=('sd', 0.2))\n",
    "sns.lineplot(x='mass_y', y='rew', hue='expert', data=df, ax=axs[0,1], errorbar=('sd', 0.2))\n",
    "sns.lineplot(x='mass_z', y='rew', hue='expert', data=df, ax=axs[0,2], errorbar=('sd', 0.2))\n",
    "sns.lineplot(x='decay_x', y='rew', hue='expert', data=df, ax=axs[1,0], errorbar=('sd', 0.2))\n",
    "sns.lineplot(x='decay_y', y='rew', hue='expert', data=df, ax=axs[1,1], errorbar=('sd', 0.2))\n",
    "sns.lineplot(x='decay_z', y='rew', hue='expert', data=df, ax=axs[1,2], errorbar=('sd', 0.2))\n",
    "sns.lineplot(x='param_0', y='rew', hue='expert', data=df, ax=axs[2,0], errorbar=('sd', 0.2))\n",
    "sns.lineplot(x='param_1', y='rew', hue='expert', data=df, ax=axs[2,1], errorbar=('sd', 0.2))\n",
    "sns.lineplot(x='param_2', y='rew', hue='expert', data=df, ax=axs[2,2], errorbar=('sd', 0.2))\n",
    "sns.lineplot(x='param_3', y='rew', hue='expert', data=df, ax=axs[2,3], errorbar=('sd', 0.2))"
   ]
  },
  {
   "cell_type": "code",
   "execution_count": null,
   "metadata": {},
   "outputs": [],
   "source": [
    "# save the plot\n",
    "plt.savefig('sensitivity.png')"
   ]
  },
  {
   "cell_type": "code",
   "execution_count": null,
   "metadata": {},
   "outputs": [],
   "source": [
    "df[df['mass_x']==0.006].var()"
   ]
  },
  {
   "cell_type": "code",
   "execution_count": null,
   "metadata": {},
   "outputs": [],
   "source": [
    "import torch\n",
    "from icecream import ic\n",
    "# vanilla = torch.load('/home/pcy/rl/policy-adaptation-survey/results/rl/ppo_mlp_vanilla_Dw1.pt')\n",
    "# ic(vanilla['expert_err_x_final'], vanilla['adapt_err_x_initial'], vanilla['adapt_err_x_end'])\n",
    "expert_Dw0 = torch.load('/home/pcy/rl/policy-adaptation-survey/results/rl/ppo_mlp_expert_Dw0.pt')\n",
    "ic(expert_Dw0['expert_err_x_final'], expert_Dw0['adapt_err_x_initial'], expert_Dw0['adapt_err_x_end'])\n",
    "expert_Dw1 = torch.load('/home/pcy/rl/policy-adaptation-survey/results/rl/ppo_mlp_expert_Dw1.pt')\n",
    "ic(expert_Dw1['expert_err_x_final'], expert_Dw1['adapt_err_x_initial'], expert_Dw1['adapt_err_x_end'])\n",
    "expert_Dw2 = torch.load('/home/pcy/rl/policy-adaptation-survey/results/rl/ppo_mlp_expert_Dw2.pt')\n",
    "ic(expert_Dw2['expert_err_x_final'], expert_Dw2['adapt_err_x_initial'], expert_Dw2['adapt_err_x_end'])\n",
    "expert_Dw1_C4 = torch.load('/home/pcy/rl/policy-adaptation-survey/results/rl/ppo_mlp_expert_Dw1_C4.pt')\n",
    "ic(expert_Dw1_C4['expert_err_x_final'], expert_Dw1_C4['adapt_err_x_initial'], expert_Dw1_C4['adapt_err_x_end'])"
   ]
  }
 ],
 "metadata": {
  "kernelspec": {
   "display_name": "rlgpu",
   "language": "python",
   "name": "python3"
  },
  "language_info": {
   "codemirror_mode": {
    "name": "ipython",
    "version": 3
   },
   "file_extension": ".py",
   "mimetype": "text/x-python",
   "name": "python",
   "nbconvert_exporter": "python",
   "pygments_lexer": "ipython3",
   "version": "3.7.13"
  },
  "orig_nbformat": 4,
  "vscode": {
   "interpreter": {
    "hash": "f381b2ea382b32a8a0c4ea78237e5104aed4e6c5df67292954c05f7a8793897f"
   }
  }
 },
 "nbformat": 4,
 "nbformat_minor": 2
}
