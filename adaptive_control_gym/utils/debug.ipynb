{
 "cells": [
  {
   "cell_type": "code",
   "execution_count": null,
   "metadata": {},
   "outputs": [],
   "source": [
    "%matplotlib widget\n",
    "import numpy as np\n",
    "\n",
    "theta = np.pi/6\n",
    "phi = np.pi/3\n",
    "euler = np.array([theta, phi, 0.0])\n",
    "\n",
    "rotmat = np.array([[0.0, 0.0, 1.0], [0.0, 1.0, 0.0], [-1.0, 0.0, 0.0]])\n",
    "\n",
    "# visualize rotation matrix\n",
    "import matplotlib.pyplot as plt\n",
    "fig = plt.figure()\n",
    "ax = fig.add_subplot(111, projection='3d')\n",
    "ax.quiver(0, 0, 0, rotmat[0, 0], rotmat[0, 1], rotmat[0, 2], color='r')\n",
    "ax.quiver(0, 0, 0, rotmat[1, 0], rotmat[1, 1], rotmat[1, 2], color='g')\n",
    "ax.quiver(0, 0, 0, rotmat[2, 0], rotmat[2, 1], rotmat[2, 2], color='b')\n",
    "ax.set_xlim([-1, 1])\n",
    "ax.set_ylim([-1, 1])\n",
    "ax.set_zlim([-1, 1])"
   ]
  },
  {
   "cell_type": "code",
   "execution_count": 4,
   "metadata": {},
   "outputs": [],
   "source": [
    "import torch\n",
    "import numpy as np\n",
    "def rpy2rotmat(rpy: torch.Tensor) -> torch.Tensor:\n",
    "    # convert roll-pitch-yaw to rotation matrix with torch\n",
    "    # rpy: (batch_size, 3)\n",
    "    # rotmat: (batch_size, 3, 3)\n",
    "    roll, pitch, yaw = rpy[:, 0], rpy[:, 1], rpy[:, 2]\n",
    "    rotmat = torch.zeros(rpy.shape[0], 3, 3, device=rpy.device)\n",
    "    rotmat[:, 0, 0] = torch.cos(yaw) * torch.cos(pitch)\n",
    "    rotmat[:, 0, 1] = torch.cos(yaw) * torch.sin(pitch) * torch.sin(roll) - torch.sin(yaw) * torch.cos(roll)\n",
    "    rotmat[:, 0, 2] = torch.cos(yaw) * torch.sin(pitch) * torch.cos(roll) + torch.sin(yaw) * torch.sin(roll)\n",
    "    rotmat[:, 1, 0] = torch.sin(yaw) * torch.cos(pitch)\n",
    "    rotmat[:, 1, 1] = torch.sin(yaw) * torch.sin(pitch) * torch.sin(roll) + torch.cos(yaw) * torch.cos(roll)\n",
    "    rotmat[:, 1, 2] = torch.sin(yaw) * torch.sin(pitch) * torch.cos(roll) - torch.cos(yaw) * torch.sin(roll)\n",
    "    rotmat[:, 2, 0] = -torch.sin(pitch)\n",
    "    rotmat[:, 2, 1] = torch.cos(pitch) * torch.sin(roll)\n",
    "    rotmat[:, 2, 2] = torch.cos(pitch) * torch.cos(roll)\n",
    "    return rotmat"
   ]
  },
  {
   "cell_type": "code",
   "execution_count": 16,
   "metadata": {},
   "outputs": [],
   "source": [
    "angle = 0.0\n",
    "euler = np.array([angle, 0.0, 0.0])\n",
    "rpy = torch.tensor(euler).unsqueeze(0)\n",
    "rotmat = rpy2rotmat(rpy)"
   ]
  },
  {
   "cell_type": "code",
   "execution_count": 17,
   "metadata": {},
   "outputs": [
    {
     "data": {
      "text/plain": [
       "tensor(0.)"
      ]
     },
     "execution_count": 17,
     "metadata": {},
     "output_type": "execute_result"
    }
   ],
   "source": [
    "force = torch.tensor([0.0, 0.0, 1.0])\n",
    "(rotmat[0]@force)[2] - np.cos(angle)"
   ]
  }
 ],
 "metadata": {
  "kernelspec": {
   "display_name": "rlgpu",
   "language": "python",
   "name": "python3"
  },
  "language_info": {
   "codemirror_mode": {
    "name": "ipython",
    "version": 3
   },
   "file_extension": ".py",
   "mimetype": "text/x-python",
   "name": "python",
   "nbconvert_exporter": "python",
   "pygments_lexer": "ipython3",
   "version": "3.8.13"
  },
  "orig_nbformat": 4,
  "vscode": {
   "interpreter": {
    "hash": "f381b2ea382b32a8a0c4ea78237e5104aed4e6c5df67292954c05f7a8793897f"
   }
  }
 },
 "nbformat": 4,
 "nbformat_minor": 2
}
