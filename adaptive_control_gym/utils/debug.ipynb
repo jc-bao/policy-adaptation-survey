{
 "cells": [
  {
   "cell_type": "code",
   "execution_count": null,
   "metadata": {},
   "outputs": [],
   "source": [
    "%matplotlib widget\n",
    "import numpy as np\n",
    "\n",
    "theta = np.pi/6\n",
    "phi = np.pi/3\n",
    "euler = np.array([theta, phi, 0.0])\n",
    "\n",
    "rotmat = np.array([[0.0, 0.0, 1.0], [0.0, 1.0, 0.0], [-1.0, 0.0, 0.0]])\n",
    "\n",
    "# visualize rotation matrix\n",
    "import matplotlib.pyplot as plt\n",
    "fig = plt.figure()\n",
    "ax = fig.add_subplot(111, projection='3d')\n",
    "ax.quiver(0, 0, 0, rotmat[0, 0], rotmat[0, 1], rotmat[0, 2], color='r')\n",
    "ax.quiver(0, 0, 0, rotmat[1, 0], rotmat[1, 1], rotmat[1, 2], color='g')\n",
    "ax.quiver(0, 0, 0, rotmat[2, 0], rotmat[2, 1], rotmat[2, 2], color='b')\n",
    "ax.set_xlim([-1, 1])\n",
    "ax.set_ylim([-1, 1])\n",
    "ax.set_zlim([-1, 1])"
   ]
  },
  {
   "cell_type": "code",
   "execution_count": null,
   "metadata": {},
   "outputs": [],
   "source": [
    "import torch\n",
    "import numpy as np\n",
    "def rpy2rotmat(rpy: torch.Tensor) -> torch.Tensor:\n",
    "    # convert roll-pitch-yaw to rotation matrix with torch\n",
    "    # rpy: (batch_size, 3)\n",
    "    # rotmat: (batch_size, 3, 3)\n",
    "    roll, pitch, yaw = rpy[:, 0], rpy[:, 1], rpy[:, 2]\n",
    "    rotmat = torch.zeros(rpy.shape[0], 3, 3, device=rpy.device)\n",
    "    rotmat[:, 0, 0] = torch.cos(yaw) * torch.cos(pitch)\n",
    "    rotmat[:, 0, 1] = torch.cos(yaw) * torch.sin(pitch) * torch.sin(roll) - torch.sin(yaw) * torch.cos(roll)\n",
    "    rotmat[:, 0, 2] = torch.cos(yaw) * torch.sin(pitch) * torch.cos(roll) + torch.sin(yaw) * torch.sin(roll)\n",
    "    rotmat[:, 1, 0] = torch.sin(yaw) * torch.cos(pitch)\n",
    "    rotmat[:, 1, 1] = torch.sin(yaw) * torch.sin(pitch) * torch.sin(roll) + torch.cos(yaw) * torch.cos(roll)\n",
    "    rotmat[:, 1, 2] = torch.sin(yaw) * torch.sin(pitch) * torch.cos(roll) - torch.cos(yaw) * torch.sin(roll)\n",
    "    rotmat[:, 2, 0] = -torch.sin(pitch)\n",
    "    rotmat[:, 2, 1] = torch.cos(pitch) * torch.sin(roll)\n",
    "    rotmat[:, 2, 2] = torch.cos(pitch) * torch.cos(roll)\n",
    "    return rotmat"
   ]
  },
  {
   "cell_type": "code",
   "execution_count": null,
   "metadata": {},
   "outputs": [],
   "source": [
    "angle = 0.0\n",
    "euler = np.array([angle, 0.0, 0.0])\n",
    "rpy = torch.tensor(euler).unsqueeze(0)\n",
    "rotmat = rpy2rotmat(rpy)"
   ]
  },
  {
   "cell_type": "code",
   "execution_count": null,
   "metadata": {},
   "outputs": [],
   "source": [
    "force = torch.tensor([0.0, 0.0, 1.0])\n",
    "(rotmat[0]@force)[2] - np.cos(angle)"
   ]
  },
  {
   "cell_type": "code",
   "execution_count": null,
   "metadata": {},
   "outputs": [],
   "source": [
    "import torch\n",
    "from adaptive_control_gym.utils import geom\n",
    "import matplotlib.pyplot as plt\n",
    "import numpy as np\n",
    "\n",
    "quat_drones = torch.tensor([0.0, 0.0, 0.0, 1.0])\n",
    "sim_dt = 1e-4\n",
    "vrpy_drones = torch.ones(3)*10\n",
    "vrpy_drones[2] = 0.0\n",
    "\n",
    "# integrate the for 1000 steps and visualize the result\n",
    "quat_list = []\n",
    "rpy_list = []\n",
    "for i in range(1000):\n",
    "    quat_drones = geom.integrate_quat(quat_drones, vrpy_drones, sim_dt)\n",
    "    quat_list.append(quat_drones.numpy())\n",
    "    rpy_list.append(geom.quat2rpy(quat_drones).numpy())\n",
    "\n",
    "# plot results in 2 subplots\n",
    "quat_list = np.array(quat_list)\n",
    "rpy_list = np.array(rpy_list)\n",
    "fig, axes = plt.subplots(2, 1, figsize=(5, 5))\n",
    "axes[0].plot(quat_list[:, 0], label='x')\n",
    "axes[0].plot(quat_list[:, 1], label='y')\n",
    "axes[0].plot(quat_list[:, 2], label='z')\n",
    "axes[0].plot(quat_list[:, 3], label='w')\n",
    "axes[0].legend()\n",
    "axes[1].plot(rpy_list[:, 0], label='roll')\n",
    "axes[1].plot(rpy_list[:, 1], label='pitch')\n",
    "axes[1].plot(rpy_list[:, 2], label='yaw')\n",
    "axes[1].legend()\n"
   ]
  },
  {
   "cell_type": "code",
   "execution_count": null,
   "metadata": {},
   "outputs": [],
   "source": [
    "quat = torch.tensor([[ 0.0445,  0.7057, -0.0445,  0.7057]])\n",
    "quat = torch.load('/home/pcy/rl/policy-adaptation-survey/adaptive_control_gym/envs/results/error_tensor_1683287126.5533292.pt')\n",
    "geom.quat2rpy(quat), quat\n",
    "\n",
    "np.arccos(quat[0,3].item())*2, np.pi/3"
   ]
  },
  {
   "cell_type": "code",
   "execution_count": null,
   "metadata": {},
   "outputs": [],
   "source": [
    "import jax.numpy as jnp\n",
    "import jax\n",
    "from jax.random import PRNGKey, uniform\n",
    "import matplotlib.pyplot as plt\n",
    "\n",
    "def generate_points(num_points=6):\n",
    "    points = jnp.zeros((num_points, 2))\n",
    "    key = PRNGKey(3)\n",
    "\n",
    "    # Sample the first point uniformly from [-1.5, 1.5]\n",
    "    key, subkey = jax.random.split(key)\n",
    "    y = uniform(subkey, minval=-1.5, maxval=1.5)\n",
    "    key, subkey = jax.random.split(key)\n",
    "    z = uniform(subkey, minval=-1.5, maxval=1.5)\n",
    "    points = points.at[0].set(jnp.array([y, z]))\n",
    "\n",
    "    for i in range(1, num_points):\n",
    "        # Calculate the previous point angle to the center\n",
    "        prev_angle = jnp.arctan2(points[i-1, 1], points[i-1, 0]) + jnp.pi\n",
    "\n",
    "        # Sample a random displacement angle from [-pi/4, pi/4]\n",
    "        key, subkey = jax.random.split(key)\n",
    "        delta_angle = uniform(subkey, minval=-jnp.pi/3, maxval=jnp.pi/3)\n",
    "\n",
    "        # Calculate the new angle\n",
    "        angle = prev_angle + delta_angle\n",
    "\n",
    "        # Sample the distance from [1.5, 2.5]\n",
    "        key, subkey = jax.random.split(key)\n",
    "        distance = uniform(subkey, minval=1.5, maxval=2.5)\n",
    "\n",
    "        # Calculate the new point\n",
    "        y = points[i-1, 0] + distance * jnp.cos(angle)\n",
    "        z = points[i-1, 1] + distance * jnp.sin(angle)\n",
    "        points = points.at[i].set(jnp.array([y, z]))\n",
    "\n",
    "    return points\n",
    "\n",
    "points = generate_points()\n",
    "\n",
    "# Create the plot\n",
    "plt.figure()\n",
    "for i in range(6):\n",
    "    plt.scatter(points[i, 0], points[i, 1], marker='o', label=f'{i}')\n",
    "    # plot arrow from previous point to current point\n",
    "    if i > 0:\n",
    "        plt.arrow(points[i-1, 0], points[i-1, 1], points[i, 0] - points[i-1, 0], points[i, 1] - points[i-1, 1], \n",
    "                  color='black', width=0.01, head_width=0.05, length_includes_head=True, alpha=i / 6)\n",
    "plt.legend()\n",
    "plt.scatter(0, 0, marker='x', color='red', label='Center')\n",
    "\n",
    "# Add labels and legend\n",
    "plt.xlabel('y')\n",
    "plt.ylabel('z')\n",
    "plt.title('Random Points in 2D y-z Space')\n",
    "plt.legend()\n",
    "\n",
    "# Set equal aspect ratio and display the ploxwt\n",
    "plt.gca().set_aspect('equal', adjustable='box')\n",
    "plt.show()"
   ]
  },
  {
   "cell_type": "code",
   "execution_count": 33,
   "metadata": {},
   "outputs": [
    {
     "data": {
      "text/plain": [
       "<matplotlib.legend.Legend at 0x7f1576cdaf10>"
      ]
     },
     "execution_count": 33,
     "metadata": {},
     "output_type": "execute_result"
    },
    {
     "data": {
      "image/png": "[encoded data removed]",
      "text/plain": [
       "<Figure size 640x480 with 1 Axes>"
      ]
     },
     "metadata": {},
     "output_type": "display_data"
    }
   ],
   "source": [
    "import numpy as np\n",
    "from matplotlib import pyplot as plt\n",
    "\n",
    "# simulate pid results\n",
    "dt = 0.02\n",
    "substeps_list = [1]\n",
    "\n",
    "for substeps in substeps_list:\n",
    "    tau = dt / substeps\n",
    "\n",
    "    # pid parameters\n",
    "    kp, ki, kd = 40.0, 0.0, 0.0\n",
    "    integral = 0.0\n",
    "    last_error = 0.0\n",
    "\n",
    "    # run pid controller\n",
    "    x = -np.pi/6\n",
    "    x_tar = np.pi/6\n",
    "    v = 0.0\n",
    "\n",
    "    x_list = []\n",
    "    v_list = []\n",
    "    t_list = []\n",
    "    for i in range(int(0.1//tau)):\n",
    "        error = x_tar - x\n",
    "        integral += error * tau\n",
    "        derivative = (error - last_error) / tau\n",
    "        last_error = error\n",
    "        v = kp * error + ki * integral + kd * derivative\n",
    "        x += v * tau\n",
    "        x_list.append(x)\n",
    "        v_list.append(v)\n",
    "        t_list.append(i * tau)\n",
    "\n",
    "    # plot results\n",
    "    plt.plot(t_list, x_list, label=f'x freq={1/tau:.1f}')\n",
    "plt.plot(t_list, [x_tar]*len(t_list), label='x_tar', linestyle='--')\n",
    "plt.ylim([-1.0, 1.0])\n",
    "plt.legend()"
   ]
  },
  {
   "cell_type": "code",
   "execution_count": 6,
   "metadata": {},
   "outputs": [],
   "source": [
    "import sympy as sp\n",
    "from sympy.physics.mechanics import dynamicsymbols\n",
    "\n",
    "t = sp.Symbol(\"t\")\n",
    "phi_rope = dynamicsymbols(\"phi_rope\")\n",
    "theta_rope = dynamicsymbols(\"theta_rope\")\n",
    "zeta = sp.Matrix([sp.sin(theta_rope) * sp.cos(phi_rope),\n",
    "                     sp.sin(theta_rope) * sp.sin(phi_rope), sp.cos(theta_rope)])"
   ]
  },
  {
   "cell_type": "code",
   "execution_count": 9,
   "metadata": {},
   "outputs": [
    {
     "name": "stdout",
     "output_type": "stream",
     "text": [
      "Matrix([[-sin(phi_rope(t))*sin(theta_rope(t))*Derivative(phi_rope(t), (t, 2)) - 2*sin(phi_rope(t))*cos(theta_rope(t))*Derivative(phi_rope(t), t)*Derivative(theta_rope(t), t) - sin(theta_rope(t))*cos(phi_rope(t))*Derivative(phi_rope(t), t)**2 - sin(theta_rope(t))*cos(phi_rope(t))*Derivative(theta_rope(t), t)**2 + cos(phi_rope(t))*cos(theta_rope(t))*Derivative(theta_rope(t), (t, 2))], [-sin(phi_rope(t))*sin(theta_rope(t))*Derivative(phi_rope(t), t)**2 - sin(phi_rope(t))*sin(theta_rope(t))*Derivative(theta_rope(t), t)**2 + sin(phi_rope(t))*cos(theta_rope(t))*Derivative(theta_rope(t), (t, 2)) + sin(theta_rope(t))*cos(phi_rope(t))*Derivative(phi_rope(t), (t, 2)) + 2*cos(phi_rope(t))*cos(theta_rope(t))*Derivative(phi_rope(t), t)*Derivative(theta_rope(t), t)], [-(sin(theta_rope(t))*Derivative(theta_rope(t), (t, 2)) + cos(theta_rope(t))*Derivative(theta_rope(t), t)**2)]])\n"
     ]
    }
   ],
   "source": [
    "print(sp.diff(zeta, (t, 2)))"
   ]
  },
  {
   "cell_type": "code",
   "execution_count": null,
   "metadata": {},
   "outputs": [],
   "source": []
  }
 ],
 "metadata": {
  "kernelspec": {
   "display_name": "rlgpu",
   "language": "python",
   "name": "python3"
  },
  "language_info": {
   "codemirror_mode": {
    "name": "ipython",
    "version": 3
   },
   "file_extension": ".py",
   "mimetype": "text/x-python",
   "name": "python",
   "nbconvert_exporter": "python",
   "pygments_lexer": "ipython3",
   "version": "3.11.3"
  },
  "orig_nbformat": 4,
  "vscode": {
   "interpreter": {
    "hash": "f381b2ea382b32a8a0c4ea78237e5104aed4e6c5df67292954c05f7a8793897f"
   }
  }
 },
 "nbformat": 4,
 "nbformat_minor": 2
}
