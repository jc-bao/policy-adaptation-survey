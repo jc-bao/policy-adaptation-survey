{
 "cells": [
  {
   "cell_type": "code",
   "execution_count": 1,
   "metadata": {},
   "outputs": [
    {
     "name": "stderr",
     "output_type": "stream",
     "text": [
      "/home/pcy/miniconda3/envs/rlgpu/lib/python3.7/site-packages/tqdm/auto.py:22: TqdmWarning: IProgress not found. Please update jupyter and ipywidgets. See https://ipywidgets.readthedocs.io/en/stable/user_install.html\n",
      "  from .autonotebook import tqdm as notebook_tqdm\n"
     ]
    }
   ],
   "source": [
    "import torch\n",
    "from adaptive_control_gym.envs import DroneEnv\n",
    "from adaptive_control_gym.envs.drone import ResDynMLP\n",
    "from tqdm import trange"
   ]
  },
  {
   "cell_type": "code",
   "execution_count": 14,
   "metadata": {},
   "outputs": [],
   "source": [
    "env = DroneEnv(env_num = 128, gpu_id = 0, seed = 1, res_dyn_param_dim = 1)\n",
    "agent = torch.load('/home/pcy/rl/policy-adaptation-survey/results/rl/ppo_no_wind.pt', map_location=torch.device('cuda:0'))\n",
    "policy = agent['actor']\n",
    "for p in policy.parameters():\n",
    "    p.requires_grad = False"
   ]
  },
  {
   "cell_type": "code",
   "execution_count": 15,
   "metadata": {},
   "outputs": [],
   "source": [
    "res_dyn_fit = ResDynMLP(input_dim=env.dim+2+env.res_dyn_param_dim, output_dim=env.dim).to(env.device)\n",
    "for p in res_dyn_fit.parameters():\n",
    "    p.requires_grad = True\n",
    "# optimizer\n",
    "optimizer = torch.optim.Adam(res_dyn_fit.parameters(), lr=1e-3)\n",
    "criterion = torch.nn.MSELoss(reduction=\"mean\")"
   ]
  },
  {
   "cell_type": "code",
   "execution_count": 16,
   "metadata": {},
   "outputs": [
    {
     "name": "stderr",
     "output_type": "stream",
     "text": [
      "100%|██████████| 120/120 [00:00<00:00, 793.07it/s]\n",
      "100%|██████████| 30/30 [00:00<00:00, 1710.45it/s]\n"
     ]
    }
   ],
   "source": [
    "# collect data with env and fit res_dyn_fit\n",
    "repeat_times = 1\n",
    "state, info = env.reset()\n",
    "vs = torch.zeros((env.max_steps*repeat_times, env.env_num, 3), dtype=torch.float32).to('cuda:0')\n",
    "us = torch.zeros((env.max_steps*repeat_times, env.env_num, 2), dtype=torch.float32).to('cuda:0')\n",
    "ws = torch.zeros((env.max_steps*repeat_times, env.env_num, 1), dtype=torch.float32).to('cuda:0')\n",
    "res_forces = torch.zeros((env.max_steps*repeat_times, env.env_num, 3), dtype=torch.float32).to('cuda:0')\n",
    "for t in trange(env.max_steps*repeat_times):\n",
    "    action = policy.get_action(state, info['e'])[0]\n",
    "    vs[t] = env.v\n",
    "    us[t] = action\n",
    "    ws[t] = env.res_dyn_param\n",
    "    state, reward, done, info = env.step(action)\n",
    "    res_forces[t] = env.res_dyn_force\n",
    "# train res_dyn_fit\n",
    "data_in = torch.cat([vs, us, ws], dim=-1).reshape(env.max_steps*env.env_num*repeat_times, env.dim+2+env.res_dyn_param_dim)\n",
    "data_out = res_forces.reshape(env.max_steps*env.env_num*repeat_times, 3)\n",
    "batch_size = 1024\n",
    "losses = []\n",
    "for _ in trange(env.max_steps*repeat_times*env.env_num//batch_size*2):\n",
    "    idx = torch.randint(0, env.max_steps*repeat_times*env.env_num, (batch_size,))\n",
    "    d_in = data_in[idx]\n",
    "    d_out = data_out[idx]\n",
    "    d_pred = res_dyn_fit(d_in)\n",
    "    loss = criterion(d_pred, d_out)*5.0\n",
    "    optimizer.zero_grad()\n",
    "    loss.backward()\n",
    "    optimizer.step()\n",
    "    losses.append(loss.item())"
   ]
  },
  {
   "cell_type": "code",
   "execution_count": 17,
   "metadata": {},
   "outputs": [
    {
     "name": "stderr",
     "output_type": "stream",
     "text": [
      "100%|██████████| 120/120 [00:00<00:00, 913.08it/s]"
     ]
    },
    {
     "name": "stdout",
     "output_type": "stream",
     "text": [
      "0.03264659681978325\n"
     ]
    },
    {
     "name": "stderr",
     "output_type": "stream",
     "text": [
      "\n"
     ]
    }
   ],
   "source": [
    "# agent = torch.load('/home/pcy/rl/policy-adaptation-survey/results/rl/ppo_mlp_expert_Dw1.pt', map_location=torch.device('cuda:0'))\n",
    "# policy = agent['actor']\n",
    "# evulate with environment\n",
    "state, info = env.reset()\n",
    "total_loss = 0\n",
    "for t in trange(env.max_steps*repeat_times):\n",
    "    action = policy.get_action(state, info['e'])[0]\n",
    "    res_force_pred = res_dyn_fit(torch.cat([env.v, action, env.res_dyn_param], dim=-1))\n",
    "    state, reward, done, info = env.step(action)\n",
    "    res_force_loss = torch.mean(torch.square(res_force_pred - env.res_dyn_force))\n",
    "    total_loss += res_force_loss.item()\n",
    "loss_mean = total_loss/(env.max_steps*repeat_times)\n",
    "print(loss_mean)"
   ]
  },
  {
   "cell_type": "code",
   "execution_count": 18,
   "metadata": {},
   "outputs": [],
   "source": [
    "# save res_dyn_fit\n",
    "torch.save(res_dyn_fit, f'/home/pcy/rl/policy-adaptation-survey/results/rl/res_dyn_fit_{env.env_num}_{loss_mean:.3f}.pt')"
   ]
  },
  {
   "cell_type": "code",
   "execution_count": 19,
   "metadata": {},
   "outputs": [
    {
     "data": {
      "image/png": "[encoded data removed]",
      "text/plain": [
       "<Figure size 640x480 with 1 Axes>"
      ]
     },
     "metadata": {},
     "output_type": "display_data"
    }
   ],
   "source": [
    "# plot loss\n",
    "import matplotlib.pyplot as plt\n",
    "plt.plot(losses)\n",
    "plt.show()"
   ]
  },
  {
   "cell_type": "code",
   "execution_count": null,
   "metadata": {},
   "outputs": [],
   "source": []
  }
 ],
 "metadata": {
  "kernelspec": {
   "display_name": "rlgpu",
   "language": "python",
   "name": "python3"
  },
  "language_info": {
   "codemirror_mode": {
    "name": "ipython",
    "version": 3
   },
   "file_extension": ".py",
   "mimetype": "text/x-python",
   "name": "python",
   "nbconvert_exporter": "python",
   "pygments_lexer": "ipython3",
   "version": "3.7.13"
  },
  "orig_nbformat": 4,
  "vscode": {
   "interpreter": {
    "hash": "f381b2ea382b32a8a0c4ea78237e5104aed4e6c5df67292954c05f7a8793897f"
   }
  }
 },
 "nbformat": 4,
 "nbformat_minor": 2
}
